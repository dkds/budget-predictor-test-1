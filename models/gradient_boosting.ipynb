{
 "cells": [
  {
   "cell_type": "code",
   "execution_count": 1,
   "metadata": {},
   "outputs": [
    {
     "name": "stdout",
     "output_type": "stream",
     "text": [
      "['../data/generated/generated_data_2.csv', '../data/generated/generated_data_3.csv', '../data/generated/generated_data_1.csv']\n",
      "<class 'pandas.core.frame.DataFrame'>\n",
      "Index: 32404 entries, 0 to 10854\n",
      "Data columns (total 20 columns):\n",
      " #   Column                            Non-Null Count  Dtype  \n",
      "---  ------                            --------------  -----  \n",
      " 0   Date                              32404 non-null  object \n",
      " 1   Transaction Category              32404 non-null  object \n",
      " 2   Amount                            32404 non-null  float64\n",
      " 3   Credit/Debit                      32404 non-null  object \n",
      " 4   Payment Method                    32404 non-null  object \n",
      " 5   Inflation Rate                    32404 non-null  float64\n",
      " 6   Dependent Family Size             32404 non-null  int64  \n",
      " 7   Age                               32404 non-null  int64  \n",
      " 8   Months with Higher Spending       32404 non-null  object \n",
      " 9   Number of Expenses a Month        32404 non-null  int64  \n",
      " 10  Most Frequent Expense Categories  32404 non-null  object \n",
      " 11  Estimated Monthly Expenses        32404 non-null  int64  \n",
      " 12  Day                               32404 non-null  int64  \n",
      " 13  Month                             32404 non-null  int64  \n",
      " 14  Year                              32404 non-null  int64  \n",
      " 15  Year-Month                        32404 non-null  object \n",
      " 16  Budget                            32404 non-null  float64\n",
      " 17  Cumulative Monthly Spending       32404 non-null  float64\n",
      " 18  Last Month Budget                 32404 non-null  float64\n",
      " 19  Average Monthly Budget            32404 non-null  float64\n",
      "dtypes: float64(6), int64(7), object(7)\n",
      "memory usage: 5.2+ MB\n",
      "None\n"
     ]
    }
   ],
   "source": [
    "import pandas as pd\n",
    "import numpy as np\n",
    "import glob\n",
    "import os\n",
    "import psutil\n",
    "import time\n",
    "\n",
    "start_time = 0\n",
    "\n",
    "\n",
    "def log_resource_usage(scenario, timer_end):\n",
    "    global start_time\n",
    "    cpu_percent = psutil.cpu_percent(interval=1)\n",
    "    ram_mb = psutil.virtual_memory().used / (1024 ** 2)\n",
    "    print(f\"{scenario}: CPU Usage: {cpu_percent}%\")\n",
    "    print(f\"{scenario}: RAM Usage: {round(ram_mb, 2)} MB\")\n",
    "    if timer_end:\n",
    "        print(f\"{scenario}: Execution time: {round(time.time() - start_time, 2)} seconds\")\n",
    "        start_time = 0\n",
    "    elif start_time == 0:\n",
    "        start_time = time.time()\n",
    "    return cpu_percent, ram_mb\n",
    "\n",
    "\n",
    "all_files = glob.glob(os.path.join('../data/generated/', \"generated_*.csv\"))\n",
    "print(all_files)\n",
    "\n",
    "dataset = pd.DataFrame()\n",
    "for idx, filename in enumerate(all_files):\n",
    "    df = pd.read_csv(filename, index_col=None, header=0)\n",
    "    dataset = pd.concat([dataset, df])\n",
    "\n",
    "print(dataset.info())"
   ]
  },
  {
   "cell_type": "markdown",
   "metadata": {},
   "source": [
    "### Encode the data"
   ]
  },
  {
   "cell_type": "code",
   "execution_count": 2,
   "metadata": {},
   "outputs": [
    {
     "name": "stdout",
     "output_type": "stream",
     "text": [
      "207458.55789408716\n",
      "<class 'pandas.core.frame.DataFrame'>\n",
      "Index: 32404 entries, 0 to 10854\n",
      "Data columns (total 12 columns):\n",
      " #   Column                       Non-Null Count  Dtype  \n",
      "---  ------                       --------------  -----  \n",
      " 0   Transaction Category         32404 non-null  object \n",
      " 1   Amount                       32404 non-null  float64\n",
      " 2   Inflation Rate               32404 non-null  float64\n",
      " 3   Dependent Family Size        32404 non-null  int64  \n",
      " 4   Age                          32404 non-null  int64  \n",
      " 5   Estimated Monthly Expenses   32404 non-null  int64  \n",
      " 6   Day                          32404 non-null  float64\n",
      " 7   Month                        32404 non-null  float64\n",
      " 8   Year                         32404 non-null  float64\n",
      " 9   Cumulative Monthly Spending  32404 non-null  float64\n",
      " 10  Last Month Budget            32404 non-null  float64\n",
      " 11  Average Monthly Budget       32404 non-null  float64\n",
      "dtypes: float64(8), int64(3), object(1)\n",
      "memory usage: 3.2+ MB\n",
      "None\n",
      "<class 'pandas.core.series.Series'>\n",
      "Index: 32404 entries, 0 to 10854\n",
      "Series name: Budget\n",
      "Non-Null Count  Dtype  \n",
      "--------------  -----  \n",
      "32404 non-null  float64\n",
      "dtypes: float64(1)\n",
      "memory usage: 506.3 KB\n",
      "None\n"
     ]
    },
    {
     "name": "stderr",
     "output_type": "stream",
     "text": [
      "/home/neo/miniconda3/envs/final-project/lib/python3.10/site-packages/sklearn/utils/validation.py:605: FutureWarning: is_sparse is deprecated and will be removed in a future version. Check `isinstance(dtype, pd.SparseDtype)` instead.\n",
      "  if is_sparse(pd_dtype):\n",
      "/home/neo/miniconda3/envs/final-project/lib/python3.10/site-packages/sklearn/utils/validation.py:614: FutureWarning: is_sparse is deprecated and will be removed in a future version. Check `isinstance(dtype, pd.SparseDtype)` instead.\n",
      "  if is_sparse(pd_dtype) or not is_extension_array_dtype(pd_dtype):\n",
      "/home/neo/miniconda3/envs/final-project/lib/python3.10/site-packages/sklearn/utils/validation.py:605: FutureWarning: is_sparse is deprecated and will be removed in a future version. Check `isinstance(dtype, pd.SparseDtype)` instead.\n",
      "  if is_sparse(pd_dtype):\n",
      "/home/neo/miniconda3/envs/final-project/lib/python3.10/site-packages/sklearn/utils/validation.py:614: FutureWarning: is_sparse is deprecated and will be removed in a future version. Check `isinstance(dtype, pd.SparseDtype)` instead.\n",
      "  if is_sparse(pd_dtype) or not is_extension_array_dtype(pd_dtype):\n",
      "/home/neo/miniconda3/envs/final-project/lib/python3.10/site-packages/sklearn/utils/validation.py:605: FutureWarning: is_sparse is deprecated and will be removed in a future version. Check `isinstance(dtype, pd.SparseDtype)` instead.\n",
      "  if is_sparse(pd_dtype):\n",
      "/home/neo/miniconda3/envs/final-project/lib/python3.10/site-packages/sklearn/utils/validation.py:614: FutureWarning: is_sparse is deprecated and will be removed in a future version. Check `isinstance(dtype, pd.SparseDtype)` instead.\n",
      "  if is_sparse(pd_dtype) or not is_extension_array_dtype(pd_dtype):\n"
     ]
    }
   ],
   "source": [
    "from sklearn.preprocessing import OneHotEncoder\n",
    "from sklearn.compose import ColumnTransformer\n",
    "from sklearn.model_selection import train_test_split\n",
    "import pandas as pd\n",
    "\n",
    "# Assume df is your DataFrame\n",
    "X = dataset.drop(['Budget', 'Date', 'Year-Month', 'Credit/Debit', 'Most Frequent Expense Categories',\n",
    "                 'Months with Higher Spending', 'Number of Expenses a Month', 'Payment Method'], axis=1)  # Features\n",
    "y = dataset['Budget']  # Labels\n",
    "\n",
    "# Perform Z-score normalization\n",
    "numeric_cols = ['Amount', 'Month', 'Year', 'Day', 'Last Month Budget',\n",
    "                'Cumulative Monthly Spending', 'Average Monthly Budget']\n",
    "for col in numeric_cols:\n",
    "    X[col] = (X[col] - X[col].mean()) / X[col].std()\n",
    "\n",
    "# If you want to normalize the label as well\n",
    "mean_budget = y.mean()\n",
    "std_budget = y.std()\n",
    "y = (y - mean_budget) / std_budget\n",
    "print(mean_budget)\n",
    "print(X.info())\n",
    "print(y.info())\n",
    "\n",
    "# Split the data into training and testing sets\n",
    "X_train, X_test, y_train, y_test = train_test_split(\n",
    "    X, y, test_size=0.2, random_state=42)\n",
    "\n",
    "# Initialize OneHotEncoder\n",
    "onehot_encoder = OneHotEncoder(handle_unknown='ignore')\n",
    "\n",
    "# Create ColumnTransformer to apply OneHotEncoding only to the 'Description' column\n",
    "preprocessor = ColumnTransformer(\n",
    "    transformers=[\n",
    "        ('desc_onehot', onehot_encoder, ['Transaction Category'])\n",
    "    ],\n",
    "    remainder='passthrough'  # keep remaining columns as is\n",
    ")\n",
    "\n",
    "# Fit and transform the training data and transform testing data\n",
    "X_train_transformed = preprocessor.fit_transform(X_train)\n",
    "X_test_transformed = preprocessor.transform(X_test)\n",
    "\n",
    "# X_train_onehot and X_test_onehot now contain the one-hot encoded 'Description' column along with other features."
   ]
  },
  {
   "cell_type": "markdown",
   "metadata": {},
   "source": [
    "### Gradient Boosting"
   ]
  },
  {
   "cell_type": "code",
   "execution_count": 4,
   "metadata": {},
   "outputs": [
    {
     "name": "stdout",
     "output_type": "stream",
     "text": [
      "Pre Training: CPU Usage: 0.2%\n",
      "Pre Training: RAM Usage: 2408.84 MB\n"
     ]
    },
    {
     "name": "stderr",
     "output_type": "stream",
     "text": [
      "/home/neo/miniconda3/envs/final-project/lib/python3.10/site-packages/sklearn/utils/validation.py:605: FutureWarning: is_sparse is deprecated and will be removed in a future version. Check `isinstance(dtype, pd.SparseDtype)` instead.\n",
      "  if is_sparse(pd_dtype):\n",
      "/home/neo/miniconda3/envs/final-project/lib/python3.10/site-packages/sklearn/utils/validation.py:614: FutureWarning: is_sparse is deprecated and will be removed in a future version. Check `isinstance(dtype, pd.SparseDtype)` instead.\n",
      "  if is_sparse(pd_dtype) or not is_extension_array_dtype(pd_dtype):\n"
     ]
    },
    {
     "name": "stdout",
     "output_type": "stream",
     "text": [
      "Post Training: CPU Usage: 0.0%\n",
      "Post Training: RAM Usage: 2713.43 MB\n",
      "Post Training: Execution time: 200.04 seconds\n",
      "Best Parameters: {'learning_rate': 0.1, 'max_depth': 10, 'n_estimators': 800}\n",
      "Mean Squared Error with Best Parameters: 0.0021399480088782827\n"
     ]
    },
    {
     "name": "stderr",
     "output_type": "stream",
     "text": [
      "/home/neo/miniconda3/envs/final-project/lib/python3.10/site-packages/sklearn/utils/validation.py:605: FutureWarning: is_sparse is deprecated and will be removed in a future version. Check `isinstance(dtype, pd.SparseDtype)` instead.\n",
      "  if is_sparse(pd_dtype):\n",
      "/home/neo/miniconda3/envs/final-project/lib/python3.10/site-packages/sklearn/utils/validation.py:614: FutureWarning: is_sparse is deprecated and will be removed in a future version. Check `isinstance(dtype, pd.SparseDtype)` instead.\n",
      "  if is_sparse(pd_dtype) or not is_extension_array_dtype(pd_dtype):\n"
     ]
    }
   ],
   "source": [
    "from sklearn.model_selection import GridSearchCV\n",
    "from sklearn.ensemble import GradientBoostingRegressor\n",
    "from sklearn.metrics import mean_squared_error\n",
    "from skl2onnx import to_onnx\n",
    "\n",
    "\n",
    "# # Initialize the Gradient Boosting model\n",
    "# gb_model = GradientBoostingRegressor(random_state=42)\n",
    "\n",
    "# # Define the parameter grid\n",
    "# param_grid = {\n",
    "#     'n_estimators': [500, 550, 600, 800],\n",
    "#     'learning_rate': [0.01, 0.1, 0.2, 0.3, 0.5, 1],\n",
    "#     'max_depth': [10, 11, 12],\n",
    "# }\n",
    "\n",
    "# # Initialize Grid Search\n",
    "# grid_search = GridSearchCV(estimator=gb_model, param_grid=param_grid, cv=3, n_jobs=-1, verbose=2, scoring='neg_mean_squared_error')\n",
    "\n",
    "# # Fit Grid Search to the data\n",
    "# grid_search.fit(X_train_transformed, y_train)\n",
    "\n",
    "# # Get the best parameters\n",
    "# best_params = grid_search.best_params_\n",
    "\n",
    "best_params = {'learning_rate': 0.1, 'max_depth': 10, 'n_estimators': 800}\n",
    "\n",
    "# Train and evaluate the model with the best parameters\n",
    "best_gb_model = GradientBoostingRegressor(**best_params, random_state=42)\n",
    "log_resource_usage(\"Pre Training\", False)\n",
    "best_gb_model.fit(X_train_transformed, y_train)\n",
    "\n",
    "onx = to_onnx(best_gb_model, X_train_transformed[:1])\n",
    "with open(\"gb.onnx\", \"wb\") as f:\n",
    "    f.write(onx.SerializeToString())\n",
    "\n",
    "\n",
    "log_resource_usage(\"Post Training\", True)\n",
    "y_pred = best_gb_model.predict(X_test_transformed)\n",
    "mse = mean_squared_error(y_test, y_pred)\n",
    "\n",
    "print(f'Best Parameters: {best_params}')\n",
    "print(f'Mean Squared Error with Best Parameters: {mse}')"
   ]
  },
  {
   "cell_type": "markdown",
   "metadata": {},
   "source": [
    "### Test the model"
   ]
  },
  {
   "cell_type": "code",
   "execution_count": null,
   "metadata": {},
   "outputs": [],
   "source": [
    "new_data = pd.DataFrame({\n",
    "    'Amount': [1800],\n",
    "    'Transaction Category': ['transport'],\n",
    "    'Year': [2019],\n",
    "    'Month': [5],\n",
    "    'Day': [15],\n",
    "    'Age': [25],\n",
    "    'Inflation Rate': [0.03],\n",
    "    'Dependent Family Size': [3],\n",
    "    'Last Month Budget': [197000],\n",
    "    'Estimated Monthly Expenses': [200000],\n",
    "    'Cumulative Monthly Spending': [56000],\n",
    "    'Average Monthly Budget': [110000]\n",
    "})\n"
   ]
  },
  {
   "cell_type": "code",
   "execution_count": null,
   "metadata": {},
   "outputs": [],
   "source": [
    "\n",
    "# Transform the new data point in the same way as the training data\n",
    "new_data_transformed = preprocessor.transform(new_data)\n",
    "\n",
    "predicted_budget = best_gb_model.predict(new_data_transformed)\n",
    "\n",
    "print(f'Predicted budget: {predicted_budget[0]}')\n",
    "actual_prediction = (predicted_budget * std_budget) + mean_budget\n",
    "\n",
    "# Display the actual predicted Budget value\n",
    "print(f'The actual predicted Budget value is: {np.round(actual_prediction, 2)}')"
   ]
  },
  {
   "cell_type": "code",
   "execution_count": 1,
   "metadata": {},
   "outputs": [
    {
     "ename": "InvalidGraph",
     "evalue": "[ONNXRuntimeError] : 10 : INVALID_GRAPH : Load model from gb.onnx failed:This is an invalid model. In Node, (\"TreeEnsembleRegressor\", TreeEnsembleRegressor, \"ai.onnx.ml\", -1) : (\"X\": tensor(double),) -> (\"variable\": tensor(double),) , Error Mismatched attribute type in 'TreeEnsembleRegressor : nodes_hitrates'",
     "output_type": "error",
     "traceback": [
      "\u001b[0;31m---------------------------------------------------------------------------\u001b[0m",
      "\u001b[0;31mInvalidGraph\u001b[0m                              Traceback (most recent call last)",
      "\u001b[1;32m/home/neo/projects/jupyter/final-project-notebooks/models/gradient_boosting.ipynb Cell 9\u001b[0m line \u001b[0;36m3\n\u001b[1;32m      <a href='vscode-notebook-cell://wsl%2Bubuntu/home/neo/projects/jupyter/final-project-notebooks/models/gradient_boosting.ipynb#X11sdnNjb2RlLXJlbW90ZQ%3D%3D?line=0'>1</a>\u001b[0m \u001b[39mimport\u001b[39;00m \u001b[39monnxruntime\u001b[39;00m \u001b[39mas\u001b[39;00m \u001b[39mrt\u001b[39;00m\n\u001b[0;32m----> <a href='vscode-notebook-cell://wsl%2Bubuntu/home/neo/projects/jupyter/final-project-notebooks/models/gradient_boosting.ipynb#X11sdnNjb2RlLXJlbW90ZQ%3D%3D?line=2'>3</a>\u001b[0m sess \u001b[39m=\u001b[39m rt\u001b[39m.\u001b[39;49mInferenceSession(\u001b[39m\"\u001b[39;49m\u001b[39mgb.onnx\u001b[39;49m\u001b[39m\"\u001b[39;49m, providers\u001b[39m=\u001b[39;49m[\u001b[39m\"\u001b[39;49m\u001b[39mCPUExecutionProvider\u001b[39;49m\u001b[39m\"\u001b[39;49m])\n\u001b[1;32m      <a href='vscode-notebook-cell://wsl%2Bubuntu/home/neo/projects/jupyter/final-project-notebooks/models/gradient_boosting.ipynb#X11sdnNjb2RlLXJlbW90ZQ%3D%3D?line=3'>4</a>\u001b[0m input_name \u001b[39m=\u001b[39m sess\u001b[39m.\u001b[39mget_inputs()[\u001b[39m0\u001b[39m]\u001b[39m.\u001b[39mname\n\u001b[1;32m      <a href='vscode-notebook-cell://wsl%2Bubuntu/home/neo/projects/jupyter/final-project-notebooks/models/gradient_boosting.ipynb#X11sdnNjb2RlLXJlbW90ZQ%3D%3D?line=4'>5</a>\u001b[0m label_name \u001b[39m=\u001b[39m sess\u001b[39m.\u001b[39mget_outputs()[\u001b[39m0\u001b[39m]\u001b[39m.\u001b[39mname\n",
      "File \u001b[0;32m~/miniconda3/envs/final-project/lib/python3.10/site-packages/onnxruntime/capi/onnxruntime_inference_collection.py:419\u001b[0m, in \u001b[0;36mInferenceSession.__init__\u001b[0;34m(self, path_or_bytes, sess_options, providers, provider_options, **kwargs)\u001b[0m\n\u001b[1;32m    416\u001b[0m disabled_optimizers \u001b[39m=\u001b[39m kwargs[\u001b[39m\"\u001b[39m\u001b[39mdisabled_optimizers\u001b[39m\u001b[39m\"\u001b[39m] \u001b[39mif\u001b[39;00m \u001b[39m\"\u001b[39m\u001b[39mdisabled_optimizers\u001b[39m\u001b[39m\"\u001b[39m \u001b[39min\u001b[39;00m kwargs \u001b[39melse\u001b[39;00m \u001b[39mNone\u001b[39;00m\n\u001b[1;32m    418\u001b[0m \u001b[39mtry\u001b[39;00m:\n\u001b[0;32m--> 419\u001b[0m     \u001b[39mself\u001b[39;49m\u001b[39m.\u001b[39;49m_create_inference_session(providers, provider_options, disabled_optimizers)\n\u001b[1;32m    420\u001b[0m \u001b[39mexcept\u001b[39;00m (\u001b[39mValueError\u001b[39;00m, \u001b[39mRuntimeError\u001b[39;00m) \u001b[39mas\u001b[39;00m e:\n\u001b[1;32m    421\u001b[0m     \u001b[39mif\u001b[39;00m \u001b[39mself\u001b[39m\u001b[39m.\u001b[39m_enable_fallback:\n",
      "File \u001b[0;32m~/miniconda3/envs/final-project/lib/python3.10/site-packages/onnxruntime/capi/onnxruntime_inference_collection.py:460\u001b[0m, in \u001b[0;36mInferenceSession._create_inference_session\u001b[0;34m(self, providers, provider_options, disabled_optimizers)\u001b[0m\n\u001b[1;32m    458\u001b[0m session_options \u001b[39m=\u001b[39m \u001b[39mself\u001b[39m\u001b[39m.\u001b[39m_sess_options \u001b[39mif\u001b[39;00m \u001b[39mself\u001b[39m\u001b[39m.\u001b[39m_sess_options \u001b[39melse\u001b[39;00m C\u001b[39m.\u001b[39mget_default_session_options()\n\u001b[1;32m    459\u001b[0m \u001b[39mif\u001b[39;00m \u001b[39mself\u001b[39m\u001b[39m.\u001b[39m_model_path:\n\u001b[0;32m--> 460\u001b[0m     sess \u001b[39m=\u001b[39m C\u001b[39m.\u001b[39;49mInferenceSession(session_options, \u001b[39mself\u001b[39;49m\u001b[39m.\u001b[39;49m_model_path, \u001b[39mTrue\u001b[39;49;00m, \u001b[39mself\u001b[39;49m\u001b[39m.\u001b[39;49m_read_config_from_model)\n\u001b[1;32m    461\u001b[0m \u001b[39melse\u001b[39;00m:\n\u001b[1;32m    462\u001b[0m     sess \u001b[39m=\u001b[39m C\u001b[39m.\u001b[39mInferenceSession(session_options, \u001b[39mself\u001b[39m\u001b[39m.\u001b[39m_model_bytes, \u001b[39mFalse\u001b[39;00m, \u001b[39mself\u001b[39m\u001b[39m.\u001b[39m_read_config_from_model)\n",
      "\u001b[0;31mInvalidGraph\u001b[0m: [ONNXRuntimeError] : 10 : INVALID_GRAPH : Load model from gb.onnx failed:This is an invalid model. In Node, (\"TreeEnsembleRegressor\", TreeEnsembleRegressor, \"ai.onnx.ml\", -1) : (\"X\": tensor(double),) -> (\"variable\": tensor(double),) , Error Mismatched attribute type in 'TreeEnsembleRegressor : nodes_hitrates'"
     ]
    }
   ],
   "source": [
    "import onnxruntime as rt\n",
    "\n",
    "sess = rt.InferenceSession(\"gb.onnx\", providers=[\"CPUExecutionProvider\"])\n",
    "input_name = sess.get_inputs()[0].name\n",
    "label_name = sess.get_outputs()[0].name\n",
    "pred_onx = sess.run([label_name], {input_name: X_test_transformed.astype(np.float32)})[0]"
   ]
  }
 ],
 "metadata": {
  "kernelspec": {
   "display_name": "bank-data-1",
   "language": "python",
   "name": "python3"
  },
  "language_info": {
   "codemirror_mode": {
    "name": "ipython",
    "version": 3
   },
   "file_extension": ".py",
   "mimetype": "text/x-python",
   "name": "python",
   "nbconvert_exporter": "python",
   "pygments_lexer": "ipython3",
   "version": "3.10.12"
  },
  "orig_nbformat": 4
 },
 "nbformat": 4,
 "nbformat_minor": 2
}
