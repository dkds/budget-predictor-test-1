{
 "cells": [
  {
   "cell_type": "code",
   "execution_count": 23,
   "metadata": {},
   "outputs": [
    {
     "name": "stdout",
     "output_type": "stream",
     "text": [
      "['../data/generated/generated_data_2.csv', '../data/generated/generated_data_3.csv', '../data/generated/generated_data_1.csv']\n",
      "<class 'pandas.core.frame.DataFrame'>\n",
      "Index: 32404 entries, 0 to 10854\n",
      "Data columns (total 20 columns):\n",
      " #   Column                            Non-Null Count  Dtype  \n",
      "---  ------                            --------------  -----  \n",
      " 0   Date                              32404 non-null  object \n",
      " 1   Transaction Category              32404 non-null  object \n",
      " 2   Amount                            32404 non-null  float64\n",
      " 3   Credit/Debit                      32404 non-null  object \n",
      " 4   Payment Method                    32404 non-null  object \n",
      " 5   Inflation Rate                    32404 non-null  float64\n",
      " 6   Dependent Family Size             32404 non-null  int64  \n",
      " 7   Age                               32404 non-null  int64  \n",
      " 8   Months with Higher Spending       32404 non-null  object \n",
      " 9   Number of Expenses a Month        32404 non-null  int64  \n",
      " 10  Most Frequent Expense Categories  32404 non-null  object \n",
      " 11  Estimated Monthly Expenses        32404 non-null  int64  \n",
      " 12  Day                               32404 non-null  int64  \n",
      " 13  Month                             32404 non-null  int64  \n",
      " 14  Year                              32404 non-null  int64  \n",
      " 15  Year-Month                        32404 non-null  object \n",
      " 16  Budget                            32404 non-null  float64\n",
      " 17  Cumulative Monthly Spending       32404 non-null  float64\n",
      " 18  Last Month Budget                 32404 non-null  float64\n",
      " 19  Average Monthly Budget            32404 non-null  float64\n",
      "dtypes: float64(6), int64(7), object(7)\n",
      "memory usage: 5.2+ MB\n",
      "None\n"
     ]
    }
   ],
   "source": [
    "import pandas as pd\n",
    "import numpy as np\n",
    "import glob\n",
    "import os\n",
    "import psutil\n",
    "import time\n",
    "\n",
    "start_time = 0\n",
    "\n",
    "\n",
    "def log_resource_usage(scenario, timer_end):\n",
    "    global start_time\n",
    "    cpu_percent = psutil.cpu_percent(interval=1)\n",
    "    ram_mb = psutil.virtual_memory().used / (1024 ** 2)\n",
    "    print(f\"{scenario}: CPU Usage: {cpu_percent}%\")\n",
    "    print(f\"{scenario}: RAM Usage: {round(ram_mb, 2)} MB\")\n",
    "    if timer_end:\n",
    "        print(f\"{scenario}: Execution time: {round(time.time() - start_time, 2)} seconds\")\n",
    "        start_time = 0\n",
    "    elif start_time == 0:\n",
    "        start_time = time.time()\n",
    "    return cpu_percent, ram_mb\n",
    "\n",
    "all_files = glob.glob(os.path.join('../data/generated/' , \"generated_*.csv\"))\n",
    "print(all_files)\n",
    "\n",
    "dataset = pd.DataFrame()\n",
    "for idx, filename in enumerate(all_files):\n",
    "    df = pd.read_csv(filename, index_col=None, header=0)\n",
    "    dataset = pd.concat([dataset, df])\n",
    "\n",
    "print(dataset.info())\n",
    "\n"
   ]
  },
  {
   "cell_type": "markdown",
   "metadata": {},
   "source": [
    "### Encode the data"
   ]
  },
  {
   "cell_type": "code",
   "execution_count": 24,
   "metadata": {},
   "outputs": [
    {
     "name": "stdout",
     "output_type": "stream",
     "text": [
      "207458.55789408716\n",
      "<class 'pandas.core.frame.DataFrame'>\n",
      "Index: 32404 entries, 0 to 10854\n",
      "Data columns (total 12 columns):\n",
      " #   Column                       Non-Null Count  Dtype  \n",
      "---  ------                       --------------  -----  \n",
      " 0   Transaction Category         32404 non-null  object \n",
      " 1   Amount                       32404 non-null  float64\n",
      " 2   Inflation Rate               32404 non-null  float64\n",
      " 3   Dependent Family Size        32404 non-null  int64  \n",
      " 4   Age                          32404 non-null  int64  \n",
      " 5   Estimated Monthly Expenses   32404 non-null  int64  \n",
      " 6   Day                          32404 non-null  float64\n",
      " 7   Month                        32404 non-null  float64\n",
      " 8   Year                         32404 non-null  float64\n",
      " 9   Cumulative Monthly Spending  32404 non-null  float64\n",
      " 10  Last Month Budget            32404 non-null  float64\n",
      " 11  Average Monthly Budget       32404 non-null  float64\n",
      "dtypes: float64(8), int64(3), object(1)\n",
      "memory usage: 3.2+ MB\n",
      "None\n",
      "<class 'pandas.core.series.Series'>\n",
      "Index: 32404 entries, 0 to 10854\n",
      "Series name: Budget\n",
      "Non-Null Count  Dtype  \n",
      "--------------  -----  \n",
      "32404 non-null  float64\n",
      "dtypes: float64(1)\n",
      "memory usage: 506.3 KB\n",
      "None\n"
     ]
    }
   ],
   "source": [
    "from sklearn.preprocessing import OneHotEncoder\n",
    "from sklearn.compose import ColumnTransformer\n",
    "from sklearn.model_selection import train_test_split\n",
    "import pandas as pd\n",
    "\n",
    "# Assume df is your DataFrame\n",
    "X = dataset.drop(['Budget', 'Date', 'Year-Month', 'Credit/Debit', 'Most Frequent Expense Categories',\n",
    "                 'Months with Higher Spending', 'Number of Expenses a Month', 'Payment Method'], axis=1)  # Features\n",
    "y = dataset['Budget']  # Labels\n",
    "\n",
    "# Perform Z-score normalization\n",
    "numeric_cols = ['Amount', 'Month', 'Year', 'Day', 'Last Month Budget',\n",
    "                'Cumulative Monthly Spending', 'Average Monthly Budget']\n",
    "for col in numeric_cols:\n",
    "    X[col] = (X[col] - X[col].mean()) / X[col].std()\n",
    "\n",
    "# If you want to normalize the label as well\n",
    "mean_budget = y.mean()\n",
    "std_budget = y.std()\n",
    "y = (y - mean_budget) / std_budget\n",
    "print(mean_budget)\n",
    "print(X.info())\n",
    "print(y.info())\n",
    "\n",
    "# Split the data into training and testing sets\n",
    "X_train, X_test, y_train, y_test = train_test_split(\n",
    "    X, y, test_size=0.2, random_state=42)\n",
    "\n",
    "# Initialize OneHotEncoder\n",
    "onehot_encoder = OneHotEncoder(handle_unknown='ignore')\n",
    "\n",
    "# Create ColumnTransformer to apply OneHotEncoding only to the 'Description' column\n",
    "preprocessor = ColumnTransformer(\n",
    "    transformers=[\n",
    "        ('desc_onehot', onehot_encoder, ['Transaction Category'])\n",
    "    ],\n",
    "    remainder='passthrough'  # keep remaining columns as is\n",
    ")\n",
    "\n",
    "# Fit and transform the training data and transform testing data\n",
    "X_train_transformed = preprocessor.fit_transform(X_train)\n",
    "X_test_transformed = preprocessor.transform(X_test)\n",
    "\n",
    "# X_train_onehot and X_test_onehot now contain the one-hot encoded 'Description' column along with other features."
   ]
  },
  {
   "cell_type": "markdown",
   "metadata": {},
   "source": [
    "### Linear Regression"
   ]
  },
  {
   "cell_type": "code",
   "execution_count": 25,
   "metadata": {},
   "outputs": [
    {
     "name": "stdout",
     "output_type": "stream",
     "text": [
      "Pre Training: CPU Usage: 0.2%\n",
      "Pre Training: RAM Usage: 7866.53 MB\n",
      "Post Training: CPU Usage: 2.8%\n",
      "Post Training: RAM Usage: 7885.31 MB\n",
      "Post Training: Execution time: 1.01 seconds\n",
      "Mean Squared Error: 0.25036240453774883\n"
     ]
    }
   ],
   "source": [
    "from sklearn.linear_model import LinearRegression\n",
    "from sklearn.metrics import mean_squared_error\n",
    "\n",
    "# Create a Linear Regression model\n",
    "lr_model = LinearRegression()\n",
    "\n",
    "# Train the model\n",
    "log_resource_usage(\"Pre Training\", False)\n",
    "lr_model.fit(X_train_transformed, y_train)\n",
    "log_resource_usage(\"Post Training\", True)\n",
    "\n",
    "# Make predictions on the testing set\n",
    "y_pred = lr_model.predict(X_test_transformed)\n",
    "\n",
    "# Evaluate the model\n",
    "mse = mean_squared_error(y_test, y_pred)\n",
    "print(f'Mean Squared Error: {mse}')"
   ]
  },
  {
   "cell_type": "markdown",
   "metadata": {},
   "source": [
    "### Test the model"
   ]
  },
  {
   "cell_type": "code",
   "execution_count": 26,
   "metadata": {},
   "outputs": [],
   "source": [
    "new_data = pd.DataFrame({\n",
    "    'Amount': [1800],\n",
    "    'Transaction Category': ['transport'],\n",
    "    'Year': [2019],\n",
    "    'Month': [5],\n",
    "    'Day': [15],\n",
    "    'Age': [25],\n",
    "    'Inflation Rate': [0.03],\n",
    "    'Dependent Family Size': [3],\n",
    "    'Last Month Budget': [197000],\n",
    "    'Estimated Monthly Expenses': [200000],\n",
    "    'Cumulative Monthly Spending': [56000],\n",
    "    'Average Monthly Budget': [110000]\n",
    "})"
   ]
  },
  {
   "cell_type": "code",
   "execution_count": 27,
   "metadata": {},
   "outputs": [
    {
     "name": "stdout",
     "output_type": "stream",
     "text": [
      "Predicted budget: 45580757.8203125\n",
      "The actual predicted Budget value is: [1.8970232e+12]\n"
     ]
    }
   ],
   "source": [
    "\n",
    "# Transform the new data point in the same way as the training data\n",
    "new_data_transformed = preprocessor.transform(new_data)\n",
    "\n",
    "# Perform prediction\n",
    "predicted_budget = lr_model.predict(new_data_transformed)\n",
    "\n",
    "print(f'Predicted budget: {predicted_budget[0]}')\n",
    "actual_prediction = (predicted_budget * std_budget) + mean_budget\n",
    "\n",
    "# Display the actual predicted Budget value\n",
    "print(f'The actual predicted Budget value is: {np.round(actual_prediction, 2)}')"
   ]
  },
  {
   "cell_type": "markdown",
   "metadata": {},
   "source": [
    "### Linear Regression with Ridge Regularization"
   ]
  },
  {
   "cell_type": "code",
   "execution_count": 28,
   "metadata": {},
   "outputs": [
    {
     "name": "stdout",
     "output_type": "stream",
     "text": [
      "Fitting 3 folds for each of 6 candidates, totalling 18 fits\n"
     ]
    },
    {
     "name": "stdout",
     "output_type": "stream",
     "text": [
      "[CV] END ........................................alpha=0.001; total time=   0.0s\n",
      "[CV] END ........................................alpha=0.001; total time=   0.1s\n",
      "[CV] END .........................................alpha=0.01; total time=   0.1s\n",
      "[CV] END ..........................................alpha=100; total time=   0.0s\n",
      "[CV] END .........................................alpha=0.01; total time=   0.1s\n",
      "[CV] END ..........................................alpha=100; total time=   0.0s\n",
      "[CV] END ............................................alpha=1; total time=   0.0s\n",
      "[CV] END ..........................................alpha=0.1; total time=   0.1s\n",
      "[CV] END .........................................alpha=0.01; total time=   0.1s\n",
      "[CV] END ...........................................alpha=10; total time=   0.0s\n",
      "[CV] END ........................................alpha=0.001; total time=   0.0s\n",
      "[CV] END ..........................................alpha=0.1; total time=   0.0s\n",
      "[CV] END ............................................alpha=1; total time=   0.0s\n",
      "[CV] END ..........................................alpha=0.1; total time=   0.1s\n",
      "[CV] END ............................................alpha=1; total time=   0.1s\n",
      "[CV] END ...........................................alpha=10; total time=   0.0s\n",
      "[CV] END ...........................................alpha=10; total time=   0.0s\n",
      "[CV] END ..........................................alpha=100; total time=   0.0s\n",
      "Pre Training: CPU Usage: 8.5%\n",
      "Pre Training: RAM Usage: 9188.84 MB\n",
      "Post Training: CPU Usage: 9.0%\n",
      "Post Training: RAM Usage: 9145.44 MB\n",
      "Post Training: Execution time: 1.02 seconds\n",
      "Best Parameters: {'alpha': 0.1}\n",
      "Mean Squared Error with Best Parameters: 0.25028978245020456\n"
     ]
    }
   ],
   "source": [
    "from sklearn.linear_model import Ridge\n",
    "from sklearn.model_selection import GridSearchCV\n",
    "from sklearn.metrics import mean_squared_error\n",
    "\n",
    "# Initialize the Ridge Regression model\n",
    "ridge = Ridge()\n",
    "\n",
    "# Define the parameter grid for alpha\n",
    "param_grid = {'alpha': [0.001, 0.01, 0.1, 1, 10, 100]}\n",
    "\n",
    "# Initialize Grid Search\n",
    "grid_search = GridSearchCV(estimator=ridge, param_grid=param_grid, cv=3, n_jobs=-1, verbose=2, scoring='neg_mean_squared_error')\n",
    "\n",
    "# Fit Grid Search to the data\n",
    "grid_search.fit(X_train_transformed, y_train)\n",
    "\n",
    "# Get the best parameters and train the best model\n",
    "best_params = grid_search.best_params_\n",
    "best_ridge_model = Ridge(alpha=best_params['alpha'])\n",
    "log_resource_usage(\"Pre Training\", False)\n",
    "best_ridge_model.fit(X_train_transformed, y_train)\n",
    "log_resource_usage(\"Post Training\", True)\n",
    "\n",
    "# Make predictions and evaluate\n",
    "y_pred = best_ridge_model.predict(X_test_transformed)\n",
    "mse = mean_squared_error(y_test, y_pred)\n",
    "\n",
    "print(f'Best Parameters: {best_params}')\n",
    "print(f'Mean Squared Error with Best Parameters: {mse}')\n"
   ]
  },
  {
   "cell_type": "code",
   "execution_count": 29,
   "metadata": {},
   "outputs": [
    {
     "name": "stdout",
     "output_type": "stream",
     "text": [
      "Predicted budget: 116169.00916271967\n",
      "The actual predicted Budget value is: [4.83503891e+09]\n"
     ]
    }
   ],
   "source": [
    "\n",
    "# Transform the new data point in the same way as the training data\n",
    "new_data_transformed = preprocessor.transform(new_data)\n",
    "\n",
    "predicted_budget = best_ridge_model.predict(new_data_transformed)\n",
    "\n",
    "print(f'Predicted budget: {predicted_budget[0]}')\n",
    "actual_prediction = (predicted_budget * std_budget) + mean_budget\n",
    "\n",
    "# Display the actual predicted Budget value\n",
    "print(f'The actual predicted Budget value is: {np.round(actual_prediction, 2)}')"
   ]
  }
 ],
 "metadata": {
  "kernelspec": {
   "display_name": "bank-data-1",
   "language": "python",
   "name": "python3"
  },
  "language_info": {
   "codemirror_mode": {
    "name": "ipython",
    "version": 3
   },
   "file_extension": ".py",
   "mimetype": "text/x-python",
   "name": "python",
   "nbconvert_exporter": "python",
   "pygments_lexer": "ipython3",
   "version": "3.10.12"
  },
  "orig_nbformat": 4
 },
 "nbformat": 4,
 "nbformat_minor": 2
}
